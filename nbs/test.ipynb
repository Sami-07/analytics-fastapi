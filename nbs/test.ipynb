{
 "cells": [
  {
   "cell_type": "code",
   "execution_count": null,
   "metadata": {},
   "outputs": [],
   "source": [
    "%pip install requests\n",
    "%pip install faker\n"
   ]
  },
  {
   "cell_type": "code",
   "execution_count": 84,
   "metadata": {},
   "outputs": [],
   "source": [
    "import requests\n",
    "from pprint import pprint\n",
    "import json\n",
    "path = \"/api/events\"\n",
    "base_url = \"http://localhost:8002\"\n",
    "\n",
    "endpoint = f\"{base_url}{path}\"\n"
   ]
  },
  {
   "cell_type": "code",
   "execution_count": 85,
   "metadata": {},
   "outputs": [],
   "source": [
    "data={\"description\" : \"test description\"}"
   ]
  },
  {
   "cell_type": "code",
   "execution_count": null,
   "metadata": {},
   "outputs": [],
   "source": [
    "response = requests.post(endpoint, data=json.dumps(data))\n",
    "\n",
    "print(response.json())\n"
   ]
  },
  {
   "cell_type": "code",
   "execution_count": null,
   "metadata": {},
   "outputs": [],
   "source": [
    "response = requests.get(endpoint + \"/2\")\n",
    "\n",
    "pprint(response.json())\n"
   ]
  },
  {
   "cell_type": "code",
   "execution_count": 57,
   "metadata": {},
   "outputs": [],
   "source": [
    "import requests\n",
    "from pprint import pprint\n",
    "import json\n",
    "path = \"/api/events\"\n",
    "base_url = \"http://localhost:8002\"\n",
    "\n",
    "endpoint = f\"{base_url}{path}?page=2\"\n"
   ]
  },
  {
   "cell_type": "code",
   "execution_count": null,
   "metadata": {},
   "outputs": [],
   "source": [
    "response = requests.get(endpoint)\n",
    "\n",
    "pprint(response.json())"
   ]
  },
  {
   "cell_type": "code",
   "execution_count": 77,
   "metadata": {},
   "outputs": [],
   "source": [
    "import requests\n",
    "from pprint import pprint\n",
    "import json\n",
    "path = \"/api/events\"\n",
    "base_url = \"http://localhost:8002\"\n",
    "\n",
    "endpoint = f\"{base_url}{path}\"\n",
    "data = {\"description\": \"updated description\"}"
   ]
  },
  {
   "cell_type": "code",
   "execution_count": null,
   "metadata": {},
   "outputs": [],
   "source": [
    "response = requests.put(endpoint + \"/1\", data=json.dumps(data))\n",
    "\n",
    "pprint(response.json())"
   ]
  },
  {
   "cell_type": "code",
   "execution_count": 61,
   "metadata": {},
   "outputs": [],
   "source": [
    "import requests\n",
    "from pprint import pprint\n",
    "import json\n",
    "path = \"/api/events\"\n",
    "base_url = \"http://localhost:8002\"\n",
    "\n",
    "endpoint = f\"{base_url}{path}\"\n",
    "data = {\"description\": \"updated description\"}"
   ]
  },
  {
   "cell_type": "code",
   "execution_count": null,
   "metadata": {},
   "outputs": [],
   "source": [
    "response = requests.delete(endpoint + \"/5\")\n",
    "\n",
    "pprint(response.json())"
   ]
  },
  {
   "cell_type": "code",
   "execution_count": null,
   "metadata": {},
   "outputs": [],
   "source": [
    "from faker import Faker\n",
    "import random\n",
    "events = 1000\n",
    "pages = [\n",
    "        \"/\", \"/about\", \"/pricing\", \"/contact\", \n",
    "        \"/blog\", \"/products\", \"/login\", \"/signup\",\n",
    "        \"/dashboard\", \"/settings\"\n",
    "    ]\n",
    "fake = Faker()\n",
    "session_ids = [fake.uuid4() for _ in range(20)]\n",
    "path = \"/api/events/\"\n",
    "base_url = \"http://localhost:8002\" # 127.0.0.1\n",
    "create_endpoint = f\"{base_url}{path}\"\n",
    "referrers = [\n",
    "    \"https://google.com\",\n",
    "    \"https://facebook.com\",\n",
    "    \"https://twitter.com\",\n",
    "    \"https://linkedin.com\",\n",
    "    \"\",  # direct traffic\n",
    "    \"https://github.com\"\n",
    "]\n",
    "\n",
    "for i in range(events):\n",
    "    page = random.choice(pages)\n",
    "    user_agent = random.choice([\n",
    "            fake.chrome,\n",
    "            fake.firefox,\n",
    "            fake.safari,\n",
    "            fake.opera,\n",
    "            fake.user_agent\n",
    "        ])()\n",
    "    payload = dict(\n",
    "        page=random.choice(pages),\n",
    "        user_agent=user_agent,\n",
    "        ip_address=fake.ipv4(),\n",
    "        referrer=random.choice(referrers),\n",
    "        session_id=random.choice(session_ids),\n",
    "        duration=random.randint(50, 5000)  # Between 5 and 300 seconds\n",
    "    )\n",
    "    response = requests.post(create_endpoint, json=payload) # HTTP POST\n",
    "    if response.ok:\n",
    "        data = response.json()\n",
    "        print(data)"
   ]
  },
  {
   "cell_type": "code",
   "execution_count": 114,
   "metadata": {},
   "outputs": [],
   "source": [
    "import sys\n",
    "from pathlib import Path\n",
    "src_path = Path(\"../src\").resolve()\n",
    "sys.path.append(str(src_path))\n",
    "from api.events.models import EventModel\n",
    "from api.db.session import Session\n",
    "from api.db.session import engine\n",
    "from timescaledb.hyperfunctions import time_bucket\n",
    "from sqlmodel import select, func"
   ]
  },
  {
   "cell_type": "code",
   "execution_count": 128,
   "metadata": {},
   "outputs": [
    {
     "name": "stdout",
     "output_type": "stream",
     "text": [
      "[(datetime.datetime(2025, 4, 19, 8, 19, tzinfo=datetime.timezone.utc), '/', 32),\n",
      " (datetime.datetime(2025, 4, 19, 8, 19, tzinfo=datetime.timezone.utc), '/about', 37),\n",
      " (datetime.datetime(2025, 4, 19, 8, 19, tzinfo=datetime.timezone.utc), '/blog', 25),\n",
      " (datetime.datetime(2025, 4, 19, 8, 19, tzinfo=datetime.timezone.utc), '/contact', 35),\n",
      " (datetime.datetime(2025, 4, 19, 8, 19, tzinfo=datetime.timezone.utc), '/dashboard', 24),\n",
      " (datetime.datetime(2025, 4, 19, 8, 19, tzinfo=datetime.timezone.utc), '/login', 38),\n",
      " (datetime.datetime(2025, 4, 19, 8, 19, tzinfo=datetime.timezone.utc), '/pricing', 31),\n",
      " (datetime.datetime(2025, 4, 19, 8, 19, tzinfo=datetime.timezone.utc), '/products', 34),\n",
      " (datetime.datetime(2025, 4, 19, 8, 19, tzinfo=datetime.timezone.utc), '/settings', 44),\n",
      " (datetime.datetime(2025, 4, 19, 8, 19, tzinfo=datetime.timezone.utc), '/signup', 35),\n",
      " (datetime.datetime(2025, 4, 19, 8, 20, tzinfo=datetime.timezone.utc), '/', 74),\n",
      " (datetime.datetime(2025, 4, 19, 8, 20, tzinfo=datetime.timezone.utc), '/about', 73),\n",
      " (datetime.datetime(2025, 4, 19, 8, 20, tzinfo=datetime.timezone.utc), '/blog', 53),\n",
      " (datetime.datetime(2025, 4, 19, 8, 20, tzinfo=datetime.timezone.utc), '/contact', 63),\n",
      " (datetime.datetime(2025, 4, 19, 8, 20, tzinfo=datetime.timezone.utc), '/dashboard', 57),\n",
      " (datetime.datetime(2025, 4, 19, 8, 20, tzinfo=datetime.timezone.utc), '/login', 80),\n",
      " (datetime.datetime(2025, 4, 19, 8, 20, tzinfo=datetime.timezone.utc), '/pricing', 61),\n",
      " (datetime.datetime(2025, 4, 19, 8, 20, tzinfo=datetime.timezone.utc), '/products', 61),\n",
      " (datetime.datetime(2025, 4, 19, 8, 20, tzinfo=datetime.timezone.utc), '/settings', 69),\n",
      " (datetime.datetime(2025, 4, 19, 8, 20, tzinfo=datetime.timezone.utc), '/signup', 74)]\n"
     ]
    }
   ],
   "source": [
    "with Session(engine) as session:\n",
    "    bucket = time_bucket(\"1 minute\", EventModel.time)\n",
    "    query = (select(bucket, EventModel.page, func.count()).group_by(bucket, EventModel.page)).order_by(bucket,\n",
    "                                                                                      EventModel.page)\n",
    "    compiled_query = query.compile(compile_kwargs={\"literal_binds\": True})\n",
    "    print(compiled_query)\n",
    "    results = session.exec(query).fetchall()\n",
    "    pprint(results)\n"
   ]
  }
 ],
 "metadata": {
  "kernelspec": {
   "display_name": ".venv",
   "language": "python",
   "name": "python3"
  },
  "language_info": {
   "codemirror_mode": {
    "name": "ipython",
    "version": 3
   },
   "file_extension": ".py",
   "mimetype": "text/x-python",
   "name": "python",
   "nbconvert_exporter": "python",
   "pygments_lexer": "ipython3",
   "version": "3.10.7"
  }
 },
 "nbformat": 4,
 "nbformat_minor": 2
}
