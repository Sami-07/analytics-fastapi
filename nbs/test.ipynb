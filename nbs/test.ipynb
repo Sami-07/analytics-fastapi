{
 "cells": [
  {
   "cell_type": "code",
   "execution_count": null,
   "metadata": {},
   "outputs": [],
   "source": [
    "%pip install requests"
   ]
  },
  {
   "cell_type": "code",
   "execution_count": 18,
   "metadata": {},
   "outputs": [],
   "source": [
    "import requests\n",
    "from pprint import pprint\n",
    "import json\n",
    "path = \"/api/events\"\n",
    "base_url = \"http://localhost:8002\"\n",
    "\n",
    "endpoint = f\"{base_url}{path}\"\n"
   ]
  },
  {
   "cell_type": "code",
   "execution_count": 11,
   "metadata": {},
   "outputs": [],
   "source": [
    "data={\"description\" : \"test description\"}"
   ]
  },
  {
   "cell_type": "code",
   "execution_count": 17,
   "metadata": {},
   "outputs": [
    {
     "name": "stdout",
     "output_type": "stream",
     "text": [
      "{'page': None, 'description': 'test description', 'id': 6}\n"
     ]
    }
   ],
   "source": [
    "response = requests.post(endpoint, data=json.dumps(data))\n",
    "\n",
    "print(response.json())\n"
   ]
  },
  {
   "cell_type": "code",
   "execution_count": 19,
   "metadata": {},
   "outputs": [
    {
     "name": "stdout",
     "output_type": "stream",
     "text": [
      "{'results': [{'page': None, 'description': 'test description', 'id': 1}, {'page': None, 'description': 'test description', 'id': 2}, {'page': None, 'description': 'test description', 'id': 3}, {'page': None, 'description': 'test description', 'id': 4}, {'page': None, 'description': 'test description', 'id': 5}, {'page': None, 'description': 'test description', 'id': 6}]}\n"
     ]
    }
   ],
   "source": [
    "response = requests.get(endpoint)\n",
    "\n",
    "print(response.json())\n"
   ]
  }
 ],
 "metadata": {
  "kernelspec": {
   "display_name": ".venv",
   "language": "python",
   "name": "python3"
  },
  "language_info": {
   "codemirror_mode": {
    "name": "ipython",
    "version": 3
   },
   "file_extension": ".py",
   "mimetype": "text/x-python",
   "name": "python",
   "nbconvert_exporter": "python",
   "pygments_lexer": "ipython3",
   "version": "3.10.7"
  }
 },
 "nbformat": 4,
 "nbformat_minor": 2
}
